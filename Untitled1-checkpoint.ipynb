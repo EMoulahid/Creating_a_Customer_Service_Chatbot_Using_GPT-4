{
 "cells": [
  {
   "cell_type": "code",
   "execution_count": null,
   "metadata": {},
   "outputs": [
    {
     "name": "stdout",
     "output_type": "stream",
     "text": [
      "Welcome to the customer service chatbot. Type 'exit' to end the chat.\n"
     ]
    }
   ],
   "source": [
    "import openai\n",
    "\n",
    "# Initialize the OpenAI client\n",
    "openai.api_key = 'your_openai_api_key_here'\n",
    "\n",
    "def get_response(prompt):\n",
    "    \"\"\"\n",
    "    Function to get a response from GPT-4 based on the user prompt.\n",
    "    \"\"\"\n",
    "    response = openai.Completion.create(\n",
    "        engine=\"gpt-4\",  # Use \"gpt-3.5-turbo\" for other models if necessary\n",
    "        prompt=prompt,\n",
    "        max_tokens=150,  # Adjust the length of the response\n",
    "        temperature=0.7,  # Adjust the creativity of the response\n",
    "        n=1,\n",
    "        stop=None,\n",
    "        top_p=1.0\n",
    "    )\n",
    "    return response.choices[0].text.strip()\n",
    "\n",
    "def chat():\n",
    "    \"\"\"\n",
    "    Function to start a conversation with the chatbot.\n",
    "    \"\"\"\n",
    "    print(\"Welcome to the customer service chatbot. Type 'exit' to end the chat.\")\n",
    "    while True:\n",
    "        user_input = input(\"You: \")\n",
    "        if user_input.lower() == 'exit':\n",
    "            print(\"Chatbot: Goodbye!\")\n",
    "            break\n",
    "        \n",
    "        prompt = f\"Customer Service Chatbot:\\nUser: {user_input}\\nChatbot:\"\n",
    "        response = get_response(prompt)\n",
    "        print(f\"Chatbot: {response}\")\n",
    "\n",
    "if __name__ == \"__main__\":\n",
    "    chat()"
   ]
  },
  {
   "cell_type": "code",
   "execution_count": null,
   "metadata": {},
   "outputs": [],
   "source": []
  }
 ],
 "metadata": {
  "kernelspec": {
   "display_name": "Python 3",
   "language": "python",
   "name": "python3"
  },
  "language_info": {
   "codemirror_mode": {
    "name": "ipython",
    "version": 3
   },
   "file_extension": ".py",
   "mimetype": "text/x-python",
   "name": "python",
   "nbconvert_exporter": "python",
   "pygments_lexer": "ipython3",
   "version": "3.8.5"
  }
 },
 "nbformat": 4,
 "nbformat_minor": 4
}
